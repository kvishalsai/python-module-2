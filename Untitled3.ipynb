{
  "nbformat": 4,
  "nbformat_minor": 0,
  "metadata": {
    "colab": {
      "name": "Untitled3.ipynb",
      "provenance": [],
      "collapsed_sections": [],
      "authorship_tag": "ABX9TyNQ9bVObvSUNSQuVByP1ll6",
      "include_colab_link": true
    },
    "kernelspec": {
      "name": "python3",
      "display_name": "Python 3"
    }
  },
  "cells": [
    {
      "cell_type": "markdown",
      "metadata": {
        "id": "view-in-github",
        "colab_type": "text"
      },
      "source": [
        "<a href=\"https://colab.research.google.com/github/kvishalsai/python-module-2/blob/master/Untitled3.ipynb\" target=\"_parent\"><img src=\"https://colab.research.google.com/assets/colab-badge.svg\" alt=\"Open In Colab\"/></a>"
      ]
    },
    {
      "cell_type": "code",
      "metadata": {
        "id": "sgKo-tIVZTHs",
        "colab_type": "code",
        "colab": {}
      },
      "source": [
        "Question 1\n",
        " \n",
        " \n",
        "Max of three numbers"
      ],
      "execution_count": null,
      "outputs": []
    },
    {
      "cell_type": "code",
      "metadata": {
        "id": "JHsUEfHxZab8",
        "colab_type": "code",
        "colab": {
          "base_uri": "https://localhost:8080/",
          "height": 34
        },
        "outputId": "b4b3aa64-b83f-4c84-f052-a64a5545debc"
      },
      "source": [
        " \n",
        "def maximum(a, b, c): \n",
        " \n",
        "  \n",
        " \n",
        "    if (a >= b) and (a >= c): \n",
        " \n",
        "        largest = a \n",
        " \n",
        "  \n",
        " \n",
        "    elif (b >= a) and (b >= c): \n",
        " \n",
        "        largest = b \n",
        " \n",
        "    else: \n",
        " \n",
        "        largest = c \n",
        " \n",
        "          \n",
        " \n",
        "    return largest\n",
        " \n",
        " \n",
        "a = 10\n",
        " \n",
        "b = 14\n",
        " \n",
        "c = 12\n",
        " \n",
        "print(maximum(a, b, c))"
      ],
      "execution_count": null,
      "outputs": [
        {
          "output_type": "stream",
          "text": [
            "14\n"
          ],
          "name": "stdout"
        }
      ]
    },
    {
      "cell_type": "code",
      "metadata": {
        "id": "g24zYzWJaDpF",
        "colab_type": "code",
        "colab": {}
      },
      "source": [
        " \n",
        "Question 2\n",
        " \n",
        "To reverse  a string"
      ],
      "execution_count": null,
      "outputs": []
    },
    {
      "cell_type": "code",
      "metadata": {
        "id": "cDXAMrLCpJVz",
        "colab_type": "code",
        "colab": {
          "base_uri": "https://localhost:8080/",
          "height": 34
        },
        "outputId": "2a680c3b-f459-4b07-ffe8-17fbe98fb65d"
      },
      "source": [
        " txt = \"Hello World\"[::-1]\n",
        "print(txt)"
      ],
      "execution_count": 1,
      "outputs": [
        {
          "output_type": "stream",
          "text": [
            "dlroW olleH\n"
          ],
          "name": "stdout"
        }
      ]
    },
    {
      "cell_type": "code",
      "metadata": {
        "id": "fEFZN7Y-a8n9",
        "colab_type": "code",
        "colab": {}
      },
      "source": [
        "Question 3\n",
        " \n",
        "Checking the number prime or not"
      ],
      "execution_count": null,
      "outputs": []
    },
    {
      "cell_type": "code",
      "metadata": {
        "id": "U2W2ANIUpSCR",
        "colab_type": "code",
        "colab": {
          "base_uri": "https://localhost:8080/",
          "height": 34
        },
        "outputId": "cc1853f8-e442-4238-f373-8aa59730813c"
      },
      "source": [
        " num=11\n",
        "if num > 1:\n",
        "  for i in range(2, num):\n",
        "    if (num % i) == 0:\n",
        "      print(num, \"is not a prime number\")\n",
        "      break\n",
        "  else:\n",
        "      print(num, \"is a prime number\")\n",
        "else:\n",
        "   print(num, \"is not a prime number\")"
      ],
      "execution_count": 2,
      "outputs": [
        {
          "output_type": "stream",
          "text": [
            "11 is a prime number\n"
          ],
          "name": "stdout"
        }
      ]
    },
    {
      "cell_type": "code",
      "metadata": {
        "id": "FZ1HeVEqdXeF",
        "colab_type": "code",
        "colab": {}
      },
      "source": [
        "Question 4\n",
        " \n",
        "To check number palindrome or not"
      ],
      "execution_count": null,
      "outputs": []
    },
    {
      "cell_type": "code",
      "metadata": {
        "id": "GqWwnFycpWb6",
        "colab_type": "code",
        "colab": {
          "base_uri": "https://localhost:8080/",
          "height": 85
        },
        "outputId": "d45b9dc4-a603-4464-f36c-48e25f07d3fc"
      },
      "source": [
        " try:\n",
        "  n=int(input(\"Enter number:\"))\n",
        "  temp=n\n",
        "  rev=0\n",
        "  while(n>0):\n",
        "    dig=n%10\n",
        "    rev=rev*10+dig\n",
        "    n=n//10\n",
        "    if(temp==rev):\n",
        "      print(\"the number is a palindrome!\")\n",
        "    else:\n",
        "      print(\"the number is not a palindrome\")  \n",
        "except:\n",
        "  print(\"can't find a file\")\n",
        "finally:\n",
        "  print(\"Finally block is executed\")"
      ],
      "execution_count": 3,
      "outputs": [
        {
          "output_type": "stream",
          "text": [
            "Enter number:10\n",
            "the number is not a palindrome\n",
            "the number is not a palindrome\n",
            "Finally block is executed\n"
          ],
          "name": "stdout"
        }
      ]
    },
    {
      "cell_type": "code",
      "metadata": {
        "id": "NROKzcgxpen2",
        "colab_type": "code",
        "colab": {}
      },
      "source": [
        "Question 5"
      ],
      "execution_count": null,
      "outputs": []
    },
    {
      "cell_type": "code",
      "metadata": {
        "id": "YQjFuVXzpfwg",
        "colab_type": "code",
        "colab": {
          "base_uri": "https://localhost:8080/",
          "height": 34
        },
        "outputId": "5c0a8a0b-cecf-455d-99f3-31a37de9732c"
      },
      "source": [
        " def squaresum(n) :\n",
        "  return (n * (n + 1) / 2) * (2 * n + 1) /3\n",
        "n=4\n",
        "print(squaresum(n)) ;"
      ],
      "execution_count": 4,
      "outputs": [
        {
          "output_type": "stream",
          "text": [
            "30.0\n"
          ],
          "name": "stdout"
        }
      ]
    }
  ]
}