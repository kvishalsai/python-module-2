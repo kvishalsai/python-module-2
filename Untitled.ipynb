{
  "nbformat": 4,
  "nbformat_minor": 0,
  "metadata": {
    "colab": {
      "name": "Untitled",
      "provenance": [],
      "collapsed_sections": [],
      "authorship_tag": "ABX9TyNpp1k3NcaLWlB0Lr+UeIOU",
      "include_colab_link": true
    },
    "kernelspec": {
      "name": "python3",
      "display_name": "Python 3"
    }
  },
  "cells": [
    {
      "cell_type": "markdown",
      "metadata": {
        "id": "view-in-github",
        "colab_type": "text"
      },
      "source": [
        "<a href=\"https://colab.research.google.com/github/kvishalsai/python-module-2/blob/master/Untitled.ipynb\" target=\"_parent\"><img src=\"https://colab.research.google.com/assets/colab-badge.svg\" alt=\"Open In Colab\"/></a>"
      ]
    },
    {
      "cell_type": "code",
      "metadata": {
        "id": "YJIbXkVwL3v-",
        "colab_type": "code",
        "colab": {}
      },
      "source": [
        "Assignment 3"
      ],
      "execution_count": null,
      "outputs": []
    },
    {
      "cell_type": "code",
      "metadata": {
        "id": "7IFn4HABL9Ff",
        "colab_type": "code",
        "colab": {}
      },
      "source": [
        "Question 1"
      ],
      "execution_count": null,
      "outputs": []
    },
    {
      "cell_type": "code",
      "metadata": {
        "id": "kLjQxL4KMBBh",
        "colab_type": "code",
        "colab": {
          "base_uri": "https://localhost:8080/",
          "height": 34
        },
        "outputId": "6df76251-9f73-449f-bbf6-3a9f184b8156"
      },
      "source": [
        " a=20\n",
        "b=10\n",
        "if a==b:\n",
        "  print(\"equal\")\n",
        "else:\n",
        "  print(\"unequal\")"
      ],
      "execution_count": 1,
      "outputs": [
        {
          "output_type": "stream",
          "text": [
            "unequal\n"
          ],
          "name": "stdout"
        }
      ]
    },
    {
      "cell_type": "code",
      "metadata": {
        "id": "E3AGAN5bMJbC",
        "colab_type": "code",
        "colab": {}
      },
      "source": [
        "Question 2"
      ],
      "execution_count": null,
      "outputs": []
    },
    {
      "cell_type": "code",
      "metadata": {
        "id": "JdHDaQ_BMKst",
        "colab_type": "code",
        "colab": {
          "base_uri": "https://localhost:8080/",
          "height": 34
        },
        "outputId": "49cb5b37-b50e-438b-d274-4e107807e055"
      },
      "source": [
        " a=5\n",
        "b=5\n",
        "c=10\n",
        "if a==b==c:\n",
        "  print(\"All are equal\")\n",
        "elif a==b!=c:\n",
        "  print(\"Any two are equal\")\n",
        "else:\n",
        "  print(\"All are unequal\")"
      ],
      "execution_count": 2,
      "outputs": [
        {
          "output_type": "stream",
          "text": [
            "Any two are equal\n"
          ],
          "name": "stdout"
        }
      ]
    },
    {
      "cell_type": "code",
      "metadata": {
        "id": "HRvCmgxvMPMx",
        "colab_type": "code",
        "colab": {}
      },
      "source": [
        "Question 3"
      ],
      "execution_count": null,
      "outputs": []
    },
    {
      "cell_type": "code",
      "metadata": {
        "id": "YQA2tvMKMRsh",
        "colab_type": "code",
        "colab": {
          "base_uri": "https://localhost:8080/",
          "height": 51
        },
        "outputId": "ff955d43-6972-4d54-9f55-4dd0ae99ea24"
      },
      "source": [
        " a=2\n",
        "b=3\n",
        "res=a+b\n",
        "print('res is:')\n",
        "if res > 5:\n",
        "  print(\"result is greather than 5:\",res)\n",
        "elif res < 5:\n",
        "  print(\"result is lesser than 5:\",res)\n",
        "else:\n",
        "  print(\"result is equal to 5:\",res)"
      ],
      "execution_count": 3,
      "outputs": [
        {
          "output_type": "stream",
          "text": [
            "res is:\n",
            "result is equal to 5: 5\n"
          ],
          "name": "stdout"
        }
      ]
    },
    {
      "cell_type": "code",
      "metadata": {
        "id": "DRvbUmwUMYrU",
        "colab_type": "code",
        "colab": {}
      },
      "source": [
        "Question 4"
      ],
      "execution_count": null,
      "outputs": []
    },
    {
      "cell_type": "code",
      "metadata": {
        "id": "1qw81G0MMbit",
        "colab_type": "code",
        "colab": {
          "base_uri": "https://localhost:8080/",
          "height": 51
        },
        "outputId": "6bf249c4-ef8c-42a4-b792-f44954e477b5"
      },
      "source": [
        " a=int(input('enter value of a:'))\n",
        "if a > 35:\n",
        "  print(\"your number is greather than 35\")\n",
        "else:\n",
        "  print(\"your number is less than 35\")"
      ],
      "execution_count": 4,
      "outputs": [
        {
          "output_type": "stream",
          "text": [
            "enter value of a:77\n",
            "your number is greather than 35\n"
          ],
          "name": "stdout"
        }
      ]
    },
    {
      "cell_type": "code",
      "metadata": {
        "id": "aS__xy8rMiQy",
        "colab_type": "code",
        "colab": {}
      },
      "source": [
        "Question 5"
      ],
      "execution_count": null,
      "outputs": []
    },
    {
      "cell_type": "code",
      "metadata": {
        "id": "YxQTDCz9Mjpc",
        "colab_type": "code",
        "colab": {
          "base_uri": "https://localhost:8080/",
          "height": 34
        },
        "outputId": "74450704-56fe-4498-a1ef-84b5ba585394"
      },
      "source": [
        " def max_of_two( x, y ):\n",
        "  if x > y:\n",
        "    return x\n",
        "  return y\n",
        "def max_of_three( x, y, z ):\n",
        "  return max_of_two( x, max_of_two( y, z) )\n",
        "print(max_of_three(3, 6, -5))"
      ],
      "execution_count": 5,
      "outputs": [
        {
          "output_type": "stream",
          "text": [
            "6\n"
          ],
          "name": "stdout"
        }
      ]
    }
  ]
}