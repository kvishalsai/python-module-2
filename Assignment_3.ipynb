{
  "nbformat": 4,
  "nbformat_minor": 0,
  "metadata": {
    "colab": {
      "name": "Assignment 3",
      "provenance": [],
      "collapsed_sections": [],
      "authorship_tag": "ABX9TyMusCo2KlH5ZLdEn0I3ZTnm",
      "include_colab_link": true
    },
    "kernelspec": {
      "name": "python3",
      "display_name": "Python 3"
    }
  },
  "cells": [
    {
      "cell_type": "markdown",
      "metadata": {
        "id": "view-in-github",
        "colab_type": "text"
      },
      "source": [
        "<a href=\"https://colab.research.google.com/github/kvishalsai/python-module-2/blob/master/Assignment_3.ipynb\" target=\"_parent\"><img src=\"https://colab.research.google.com/assets/colab-badge.svg\" alt=\"Open In Colab\"/></a>"
      ]
    },
    {
      "cell_type": "code",
      "metadata": {
        "id": "P0UDZJwKc_R3",
        "colab_type": "code",
        "colab": {}
      },
      "source": [
        "Assignment 3"
      ],
      "execution_count": null,
      "outputs": []
    },
    {
      "cell_type": "code",
      "metadata": {
        "id": "ewrQDS_TdDNq",
        "colab_type": "code",
        "colab": {}
      },
      "source": [
        "Question 1 \n",
        " \n",
        " \n",
        "To find area of circle"
      ],
      "execution_count": null,
      "outputs": []
    },
    {
      "cell_type": "code",
      "metadata": {
        "id": "SHHF56uldf5p",
        "colab_type": "code",
        "colab": {
          "base_uri": "https://localhost:8080/",
          "height": 51
        },
        "outputId": "c00440a4-b176-4cd5-b78a-6a587ea5c099"
      },
      "source": [
        " \n",
        "import math\n",
        " \n",
        "r = float(input('Enter the radius of the circle :'))\n",
        "area = math.pi * r * r\n",
        " \n",
        "print(\"Area of the circle is : %.2f\" %area)"
      ],
      "execution_count": null,
      "outputs": [
        {
          "output_type": "stream",
          "text": [
            "Enter the radius of the circle :3\n",
            "Area of the circle is : 28.27\n"
          ],
          "name": "stdout"
        }
      ]
    },
    {
      "cell_type": "code",
      "metadata": {
        "id": "0m_ArqYVdlrp",
        "colab_type": "code",
        "colab": {}
      },
      "source": [
        " \n",
        "Question 2\n",
        " \n",
        "To find area of regular polygon"
      ],
      "execution_count": null,
      "outputs": []
    },
    {
      "cell_type": "code",
      "metadata": {
        "id": "9G9JZkMSdsdQ",
        "colab_type": "code",
        "colab": {
          "base_uri": "https://localhost:8080/",
          "height": 88
        },
        "outputId": "fb87dd12-7253-4a54-c16f-95c9595baedd"
      },
      "source": [
        " \n",
        "from math import tan, pi\n",
        "n_sides = int(input(\"Input number of sides: \"))\n",
        "s_length = float(input(\"Input the length of a side: \"))\n",
        "p_area = n_sides * (s_length ** 2) / (4 * tan(pi / n_sides))\n",
        "print(\"The area of the polygon is: \",p_area)"
      ],
      "execution_count": null,
      "outputs": [
        {
          "output_type": "stream",
          "text": [
            "Input number of sides: 4\n",
            "Input the length of a side: 30\n",
            "The area of the polygon is:  900.0000000000001\n"
          ],
          "name": "stdout"
        }
      ]
    },
    {
      "cell_type": "code",
      "metadata": {
        "id": "7EmR2zNHeKcG",
        "colab_type": "code",
        "colab": {}
      },
      "source": [
        "Question 3"
      ],
      "execution_count": null,
      "outputs": []
    },
    {
      "cell_type": "code",
      "metadata": {
        "id": "kbmhOUUCfpwR",
        "colab_type": "code",
        "colab": {}
      },
      "source": [
        " 3.Program to find the area of a segment of a circle using math functions\n",
        " \n",
        "Formula: area= (r^2/2) (pi c/180 - sinc)"
      ],
      "execution_count": null,
      "outputs": []
    },
    {
      "cell_type": "code",
      "metadata": {
        "id": "Fn9vjSjotTYP",
        "colab_type": "code",
        "colab": {
          "base_uri": "https://localhost:8080/",
          "height": 88
        },
        "outputId": "2bc8432d-ef10-4623-ad5f-012bdf8b5568"
      },
      "source": [
        " import math\n",
        "r= float(input(\"Enter the radius of the circle: \"))\n",
        "c= int(input(\"Enter the value of central angle in degrees: \"))\n",
        "part_one= (math.pow(r,2))/2\n",
        "part_two= ((((math.pi)/180)*c)-math.sin(c))\n",
        "area= part_one*part_two\n",
        "print(\"Area of the segment of a circle of radius\",r, \"and central angle\",c,\"is:\",area)"
      ],
      "execution_count": 1,
      "outputs": [
        {
          "output_type": "stream",
          "text": [
            "Enter the radius of the circle: 2\n",
            "Enter the value of central angle in degrees: 30\n",
            "Area of the segment of a circle of radius 2.0 and central angle 30 is: 3.0232607993823213\n"
          ],
          "name": "stdout"
        }
      ]
    },
    {
      "cell_type": "code",
      "metadata": {
        "id": "QHjO-Z3efriA",
        "colab_type": "code",
        "colab": {}
      },
      "source": [
        "Question 4"
      ],
      "execution_count": null,
      "outputs": []
    },
    {
      "cell_type": "code",
      "metadata": {
        "id": "w-F9rUKmfs9m",
        "colab_type": "code",
        "colab": {}
      },
      "source": [
        "4. Program top shuffle list"
      ],
      "execution_count": null,
      "outputs": []
    },
    {
      "cell_type": "code",
      "metadata": {
        "id": "O8Md8t5ztnoT",
        "colab_type": "code",
        "colab": {
          "base_uri": "https://localhost:8080/",
          "height": 71
        },
        "outputId": "ce9d8438-1f1d-4108-edcc-e39871bc4046"
      },
      "source": [
        " from random import shuffle\n",
        "mylist=[100,1,2,3,30,40,\"hey\",\"hello\"]\n",
        "print(\"List before shuffling:\",mylist)\n",
        "shuffle(mylist)\n",
        "print(\"List after shuffling:\",mylist)"
      ],
      "execution_count": 2,
      "outputs": [
        {
          "output_type": "stream",
          "text": [
            "List before shuffling: [100, 1, 2, 3, 30, 40, 'hey', 'hello']\n",
            "List after shuffling: [1, 40, 'hello', 30, 'hey', 3, 100, 2]\n"
          ],
          "name": "stdout"
        }
      ]
    },
    {
      "cell_type": "code",
      "metadata": {
        "id": "MbQV0v5fftT_",
        "colab_type": "code",
        "colab": {}
      },
      "source": [
        "Question 5"
      ],
      "execution_count": null,
      "outputs": []
    },
    {
      "cell_type": "code",
      "metadata": {
        "id": "YBxZ4UJHfudv",
        "colab_type": "code",
        "colab": {}
      },
      "source": [
        " .Program to generate random numbers between 1 and 10,000 and difference between each random number is 50."
      ],
      "execution_count": null,
      "outputs": []
    },
    {
      "cell_type": "code",
      "metadata": {
        "id": "ZMCU7p0yt0eQ",
        "colab_type": "code",
        "colab": {
          "base_uri": "https://localhost:8080/",
          "height": 54
        },
        "outputId": "8c04c97c-9390-41e7-e131-a9f389c51d39"
      },
      "source": [
        " import random\n",
        "print(\"Random number between 1 and 10000 which has a step of 50:\",random.randrange(1,10000,50))"
      ],
      "execution_count": 3,
      "outputs": [
        {
          "output_type": "stream",
          "text": [
            "Random number between 1 and 10000 which has a step of 50: 3201\n"
          ],
          "name": "stdout"
        }
      ]
    },
    {
      "cell_type": "code",
      "metadata": {
        "id": "cQ99qpJSt40t",
        "colab_type": "code",
        "colab": {
          "base_uri": "https://localhost:8080/",
          "height": 54
        },
        "outputId": "17b26582-3e54-4f22-cb07-27da341009d3"
      },
      "source": [
        " import random\n",
        "print(\"Random number between 1 and 10000 which has a step of 50:\",random.randrange(1,10000,50))"
      ],
      "execution_count": 4,
      "outputs": [
        {
          "output_type": "stream",
          "text": [
            "Random number between 1 and 10000 which has a step of 50: 7201\n"
          ],
          "name": "stdout"
        }
      ]
    },
    {
      "cell_type": "code",
      "metadata": {
        "id": "lN24E9Rgt-HD",
        "colab_type": "code",
        "colab": {
          "base_uri": "https://localhost:8080/",
          "height": 54
        },
        "outputId": "a07d240f-3f66-44a5-8dc1-0eadbff861e7"
      },
      "source": [
        " import random\n",
        "print(\"Random number between 1 and 10000 which has a step of 50:\",random.randrange(1,10000,50))"
      ],
      "execution_count": 5,
      "outputs": [
        {
          "output_type": "stream",
          "text": [
            "Random number between 1 and 10000 which has a step of 50: 4701\n"
          ],
          "name": "stdout"
        }
      ]
    },
    {
      "cell_type": "code",
      "metadata": {
        "id": "qozB-sAIfuvm",
        "colab_type": "code",
        "colab": {}
      },
      "source": [
        "Question 6"
      ],
      "execution_count": null,
      "outputs": []
    },
    {
      "cell_type": "code",
      "metadata": {
        "id": "ul-hmx4WuKHJ",
        "colab_type": "code",
        "colab": {
          "base_uri": "https://localhost:8080/",
          "height": 225
        },
        "outputId": "6bac699a-a403-4fd6-b11d-7e920b479b25"
      },
      "source": [
        " import math\n",
        "print(\"Sine of 60=\",math.sin(60))\n",
        "print(\"Cos of pi=\",math.cos(math.pi))\n",
        "print(\"Tan of 90=\",math.tan(90))\n",
        "print(\"Angle of sin 0.8660254037844386=\",math.sin(0.8660254037844386))\n",
        "print(\"5^8=\",math.pow(5,8))\n",
        "print(\"Square root of 400=\",math.sqrt(400))\n",
        "print(\"The value of 5^e=\",math.pow(5,math.e))\n",
        "print(\"Log(1024), base 2=\",math.log(1024,2))\n",
        "print(\"Log(1024), base 10=\",math.log(1024,10))\n",
        "print(\"Floor of 23.56=\",math.floor(23.56))\n",
        "print(\"Ceiling of 23.56=\",math.ceil(23.56))"
      ],
      "execution_count": 6,
      "outputs": [
        {
          "output_type": "stream",
          "text": [
            "Sine of 60= -0.3048106211022167\n",
            "Cos of pi= -1.0\n",
            "Tan of 90= -1.995200412208242\n",
            "Angle of sin 0.8660254037844386= 0.7617599814162892\n",
            "5^8= 390625.0\n",
            "Square root of 400= 20.0\n",
            "The value of 5^e= 79.43235916621322\n",
            "Log(1024), base 2= 10.0\n",
            "Log(1024), base 10= 3.0102999566398116\n",
            "Floor of 23.56= 23\n",
            "Ceiling of 23.56= 24\n"
          ],
          "name": "stdout"
        }
      ]
    }
  ]
}